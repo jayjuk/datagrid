{
 "cells": [
  {
   "cell_type": "code",
   "execution_count": 2,
   "id": "741bacfa-580d-4153-9b54-54f2d7d20dba",
   "metadata": {},
   "outputs": [
    {
     "data": {
      "application/vnd.jupyter.widget-view+json": {
       "model_id": "d81664297a314ea8ab66ef048f9c33c1",
       "version_major": 2,
       "version_minor": 0
      },
      "text/plain": [
       "PerspectiveWidget(columns=['a', 'b'], theme=None)"
      ]
     },
     "execution_count": 2,
     "metadata": {},
     "output_type": "execute_result"
    }
   ],
   "source": [
    "\n",
    "\n",
    "from perspective import PerspectiveWidget, Table\n",
    "PerspectiveWidget({\"a\": int, \"b\": str})"
   ]
  },
  {
   "cell_type": "code",
   "execution_count": null,
   "id": "6bd5db64-1751-4c47-9395-58fe0296e4c8",
   "metadata": {},
   "outputs": [],
   "source": []
  }
 ],
 "metadata": {
  "kernelspec": {
   "display_name": "Python 3 (ipykernel)",
   "language": "python",
   "name": "python3"
  },
  "language_info": {
   "codemirror_mode": {
    "name": "ipython",
    "version": 3
   },
   "file_extension": ".py",
   "mimetype": "text/x-python",
   "name": "python",
   "nbconvert_exporter": "python",
   "pygments_lexer": "ipython3",
   "version": "3.11.8"
  }
 },
 "nbformat": 4,
 "nbformat_minor": 5
}
